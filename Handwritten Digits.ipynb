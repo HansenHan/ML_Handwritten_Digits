{
 "cells": [
  {
   "cell_type": "code",
   "execution_count": 1,
   "id": "2b20f458",
   "metadata": {},
   "outputs": [],
   "source": [
    "import pandas as pd\n",
    "import numpy as np\n",
    "import math\n",
    "import matplotlib.pyplot as plt\n",
    "from sklearn import metrics\n",
    "from numpy import linalg as LA\n",
    "from sklearn.model_selection import train_test_split\n",
    "from sklearn.neighbors import KNeighborsClassifier\n",
    "from sklearn import svm\n",
    "import time"
   ]
  },
  {
   "cell_type": "code",
   "execution_count": 2,
   "id": "bfd50110",
   "metadata": {},
   "outputs": [],
   "source": [
    "df = pd.read_csv(\"optdigits_tran.csv\", header=None)\n",
    "df_test = pd.read_csv(\"optdigits_test.csv\", header=None)"
   ]
  },
  {
   "cell_type": "code",
   "execution_count": 3,
   "id": "4f632050",
   "metadata": {},
   "outputs": [],
   "source": [
    "def my_pca(df):\n",
    "    # Normalize:\n",
    "    mean_centering_vector = df.mean()\n",
    "    scaling_vector = (df - mean_centering_vector).std()\n",
    "    for i in range(len(scaling_vector)):\n",
    "        if scaling_vector[i] == 0:\n",
    "            scaling_vector[i] =1\n",
    "    X = df - mean_centering_vector\n",
    "    X = X.div(scaling_vector)\n",
    "    \n",
    "    XX = np.dot(np.array(X).T, X)\n",
    "    w, v = LA.eig(XX)\n",
    "    components = v.T\n",
    "    explained_variance_ratio = np.array([])\n",
    "    for i in range(len(w)):\n",
    "        R2 = w[i]/w.sum()\n",
    "        explained_variance_ratio = np.append(explained_variance_ratio, R2)\n",
    "        \n",
    "    X_transform = np.dot(X, components.T)\n",
    "    return X, pd.DataFrame(X_transform), components, explained_variance_ratio"
   ]
  },
  {
   "cell_type": "code",
   "execution_count": 4,
   "id": "32d6f469",
   "metadata": {},
   "outputs": [],
   "source": [
    "def my_sfs(X, y, model, k_features):\n",
    "    assert(k_features <= len(X.columns))\n",
    "    X_selection = np.empty((0, len(X.index)))\n",
    "    best_feature = np.array([])\n",
    "    for i in range(k_features): # for loop to find k features\n",
    "        error = np.array([]) # this error array contains total error for each col and select the col with min error\n",
    "        for col in range(len(X.columns)):\n",
    "            if not col in best_feature: # if tmp col selected in the best_feature, no need to check it again\n",
    "                tmp_X = np.append(X_selection, np.array([X[col]]), axis = 0) # combine tmp col with best_features\n",
    "                tmp_X = pd.DataFrame(tmp_X.T)\n",
    "                model.fit(tmp_X, y)\n",
    "                prediction = model.predict(tmp_X)\n",
    "                error = np.append(error, sum(abs(prediction - y))) # fit and get error for this col\n",
    "            else:\n",
    "                error = np.append(error, math.inf) # if tmp col in best_feature, set infinite error, will not be selected\n",
    "        best_feature = np.append(best_feature, np.argmin(error)) # add col index to best_feature\n",
    "        X_selection = np.append(X_selection, np.array([X[best_feature[-1]]]), axis = 0) # add col to X_selected\n",
    "    return pd.DataFrame(X_selection.T), best_feature"
   ]
  },
  {
   "cell_type": "markdown",
   "id": "9b0b43a9",
   "metadata": {},
   "source": [
    "# Use pca and sfs to get k attributes datasets, and then classify the data and compare the results. "
   ]
  },
  {
   "cell_type": "code",
   "execution_count": 5,
   "id": "67bd0b09",
   "metadata": {},
   "outputs": [],
   "source": [
    "X = df.drop(columns = 64)\n",
    "y = df[64]\n",
    "X_test = df_test.drop(columns = 64)\n",
    "y_test = df_test[64]\n",
    "X_train, X_val, y_train, y_val = train_test_split(X, y, test_size=0.2, random_state=4)"
   ]
  },
  {
   "cell_type": "code",
   "execution_count": 6,
   "id": "01ca71f4",
   "metadata": {},
   "outputs": [],
   "source": [
    "# pca_X, pca_y\n",
    "# pca_X_train, pca_y_train\n",
    "# pca_X_val, pca_y_val\n",
    "# pca_X_test, pca_y_test\n",
    "\n",
    "k_selected = 10\n",
    "\n",
    "X_cs, X_transform, components, explained_variance_ratio = my_pca(X)\n",
    "pca_X = X_transform.iloc[:, :k_selected]\n",
    "pca_y = df[64]\n",
    "\n",
    "X_cs, X_transform, components_waste, explained_variance_ratio = my_pca(X_test)\n",
    "X_transform = pd.DataFrame(np.dot(X_cs, components.T))\n",
    "pca_X_test = X_transform.iloc[:, :k_selected]\n",
    "pca_y_test = df_test[64]\n",
    "\n",
    "pca_X_train, pca_X_val, pca_y_train, pca_y_val = train_test_split(pca_X, y, test_size=0.2, random_state=4)"
   ]
  },
  {
   "cell_type": "code",
   "execution_count": 7,
   "id": "7865885e",
   "metadata": {},
   "outputs": [],
   "source": [
    "# sfs_X, sfs_y\n",
    "# sfs_X_train, sfs_y_train\n",
    "# sfs_X_val, sfs_y_val\n",
    "# sfs_X_test, sfs_y_test\n",
    "\n",
    "k_selected = 10\n",
    "model = KNeighborsClassifier()\n",
    "\n",
    "X_selection, best_feature = my_sfs(X, y, model, k_selected)\n",
    "sfs_X = X_selection\n",
    "sfs_y = df[64]\n",
    "\n",
    "# X_selection, best_feature = my_sfs(X_test, y_test, model, k_selected)\n",
    "sfs_X_test = X_test.iloc[:, best_feature]\n",
    "sfs_y_test = df_test[64]\n",
    "sfs_X_train, sfs_X_val, sfs_y_train, sfs_y_val = train_test_split(sfs_X, y, test_size=0.2, random_state=4)"
   ]
  },
  {
   "cell_type": "markdown",
   "id": "9384a7c9",
   "metadata": {},
   "source": [
    "# KNN"
   ]
  },
  {
   "cell_type": "code",
   "execution_count": 8,
   "id": "eb99dbe7",
   "metadata": {},
   "outputs": [
    {
     "name": "stdout",
     "output_type": "stream",
     "text": [
      "Maximum accuracy: 0.9895424836601308 at K = 3\n"
     ]
    },
    {
     "data": {
      "image/png": "[encoded data removed]",
      "text/plain": [
       "<Figure size 720x432 with 1 Axes>"
      ]
     },
     "metadata": {
      "needs_background": "light"
     },
     "output_type": "display_data"
    }
   ],
   "source": [
    "# KNeighborsClassifier\n",
    "# https://towardsdatascience.com/how-to-find-the-optimal-value-of-k-in-knn-35d936e554eb\n",
    "\n",
    "error = []\n",
    "accuracy = []\n",
    "for i in range(1, 40):\n",
    "    knn = KNeighborsClassifier(n_neighbors = i)\n",
    "    knn.fit(X_train, y_train)\n",
    "#     error.append(np.mean(pred_i != y_val))\n",
    "    accuracy.append(knn.score(X_val, y_val))\n",
    "\n",
    "plt.figure(figsize=(10,6))\n",
    "plt.plot(range(1,40),accuracy,color='blue', linestyle='dashed', \n",
    "         marker='o',markerfacecolor='red', markersize=10)\n",
    "plt.title('Accuracy vs. K Value')\n",
    "plt.xlabel('K')\n",
    "plt.ylabel('Accuracy')\n",
    "print(\"Maximum accuracy:\", max(accuracy), \"at K =\", accuracy.index(max(accuracy))+1)\n",
    "best_k = accuracy.index(max(accuracy))+1"
   ]
  },
  {
   "cell_type": "code",
   "execution_count": 9,
   "id": "4e165339",
   "metadata": {},
   "outputs": [
    {
     "name": "stdout",
     "output_type": "stream",
     "text": [
      "Accuracy for test data: 0.9782971619365609\n",
      "Training time in 0.0028 seconds\n",
      "Testing time in 0.1511 seconds\n"
     ]
    }
   ],
   "source": [
    "knn = KNeighborsClassifier(n_neighbors = best_k)\n",
    "tic1 = time.perf_counter()\n",
    "knn.fit(X, y)\n",
    "toc1 = time.perf_counter()\n",
    "tic2 = time.perf_counter()\n",
    "# knn.score(X_test, y_test)\n",
    "knn_predict = knn.predict(X_test)\n",
    "toc2 = time.perf_counter()\n",
    "print(\"Accuracy for test data:\", knn.score(X_test, y_test))\n",
    "print(f\"Training time in {toc1 - tic1:0.4f} seconds\")\n",
    "print(f\"Testing time in {toc2 - tic2:0.4f} seconds\")"
   ]
  },
  {
   "cell_type": "code",
   "execution_count": 10,
   "id": "6d93f2f1",
   "metadata": {},
   "outputs": [
    {
     "name": "stdout",
     "output_type": "stream",
     "text": [
      "PCA Maximum accuracy: 0.9424836601307189 at K = 5\n"
     ]
    },
    {
     "data": {
      "image/png": "[encoded data removed]",
      "text/plain": [
       "<Figure size 720x432 with 1 Axes>"
      ]
     },
     "metadata": {
      "needs_background": "light"
     },
     "output_type": "display_data"
    }
   ],
   "source": [
    "error = []\n",
    "accuracy = []\n",
    "for i in range(1, 40):\n",
    "    knn = KNeighborsClassifier(n_neighbors = i)\n",
    "    knn.fit(pca_X_train, pca_y_train)\n",
    "#     error.append(np.mean(pred_i != y_val))\n",
    "    accuracy.append(knn.score(pca_X_val, pca_y_val))\n",
    "\n",
    "plt.figure(figsize=(10,6))\n",
    "plt.plot(range(1,40),accuracy,color='blue', linestyle='dashed', \n",
    "         marker='o',markerfacecolor='red', markersize=10)\n",
    "plt.title('PCA Accuracy vs. K Value')\n",
    "plt.xlabel('K')\n",
    "plt.ylabel('Accuracy')\n",
    "print(\"PCA Maximum accuracy:\", max(accuracy), \"at K =\", accuracy.index(max(accuracy))+1)\n",
    "best_k = accuracy.index(max(accuracy))+1"
   ]
  },
  {
   "cell_type": "code",
   "execution_count": 11,
   "id": "e67b7ee9",
   "metadata": {},
   "outputs": [
    {
     "name": "stdout",
     "output_type": "stream",
     "text": [
      "PCA Accuracy for test data: 0.9276572064552031\n",
      "Training time in 0.0051 seconds\n",
      "Testing time in 0.0772 seconds\n"
     ]
    }
   ],
   "source": [
    "knn = KNeighborsClassifier(n_neighbors = best_k)\n",
    "# knn.fit(pca_X, pca_y)\n",
    "# print(\"PCA Accuracy for test data:\", knn.score(pca_X_test, pca_y_test))\n",
    "tic1 = time.perf_counter()\n",
    "knn.fit(pca_X, pca_y)\n",
    "toc1 = time.perf_counter()\n",
    "tic2 = time.perf_counter()\n",
    "# knn.score(pca_X_test, pca_y_test)\n",
    "knn_pca_predict = knn.predict(pca_X_test)\n",
    "toc2 = time.perf_counter()\n",
    "print(\"PCA Accuracy for test data:\", knn.score(pca_X_test, pca_y_test))\n",
    "print(f\"Training time in {toc1 - tic1:0.4f} seconds\")\n",
    "print(f\"Testing time in {toc2 - tic2:0.4f} seconds\")"
   ]
  },
  {
   "cell_type": "code",
   "execution_count": 12,
   "id": "8127cf7c",
   "metadata": {},
   "outputs": [
    {
     "name": "stdout",
     "output_type": "stream",
     "text": [
      "SFS Maximum accuracy: 0.8718954248366013 at K = 5\n"
     ]
    },
    {
     "data": {
      "image/png": "[encoded data removed]",
      "text/plain": [
       "<Figure size 720x432 with 1 Axes>"
      ]
     },
     "metadata": {
      "needs_background": "light"
     },
     "output_type": "display_data"
    }
   ],
   "source": [
    "error = []\n",
    "accuracy = []\n",
    "for i in range(1, 40):\n",
    "    knn = KNeighborsClassifier(n_neighbors = i)\n",
    "    knn.fit(sfs_X_train, sfs_y_train)\n",
    "#     error.append(np.mean(pred_i != y_val))\n",
    "    accuracy.append(knn.score(sfs_X_val, sfs_y_val))\n",
    "\n",
    "plt.figure(figsize=(10,6))\n",
    "plt.plot(range(1,40),accuracy,color='blue', linestyle='dashed', \n",
    "         marker='o',markerfacecolor='red', markersize=10)\n",
    "plt.title('SFS Accuracy vs. K Value')\n",
    "plt.xlabel('K')\n",
    "plt.ylabel('Accuracy')\n",
    "print(\"SFS Maximum accuracy:\", max(accuracy), \"at K =\", accuracy.index(max(accuracy))+1)\n",
    "best_k = accuracy.index(max(accuracy))+1"
   ]
  },
  {
   "cell_type": "code",
   "execution_count": 13,
   "id": "01ec6515",
   "metadata": {},
   "outputs": [
    {
     "name": "stdout",
     "output_type": "stream",
     "text": [
      "SFS Accuracy for test data: 0.8313856427378965\n",
      "Training time in 0.0088 seconds\n",
      "Testing time in 0.0731 seconds\n"
     ]
    }
   ],
   "source": [
    "knn = KNeighborsClassifier(n_neighbors = best_k)\n",
    "tic1 = time.perf_counter()\n",
    "knn.fit(sfs_X, sfs_y)\n",
    "toc1 = time.perf_counter()\n",
    "tic2 = time.perf_counter()\n",
    "# knn.score(sfs_X_test, sfs_y_test)\n",
    "knn_sfs_predict = knn.predict(sfs_X_test)\n",
    "toc2 = time.perf_counter()\n",
    "print(\"SFS Accuracy for test data:\", knn.score(sfs_X_test, sfs_y_test))\n",
    "print(f\"Training time in {toc1 - tic1:0.4f} seconds\")\n",
    "print(f\"Testing time in {toc2 - tic2:0.4f} seconds\")"
   ]
  },
  {
   "cell_type": "markdown",
   "id": "100e52ce",
   "metadata": {},
   "source": [
    "# SVM"
   ]
  },
  {
   "cell_type": "code",
   "execution_count": 14,
   "id": "5a2a1fec",
   "metadata": {},
   "outputs": [
    {
     "name": "stdout",
     "output_type": "stream",
     "text": [
      "Accuracy for test data: 0.9760712298274903\n",
      "Training time in 0.1380 seconds\n",
      "Testing time in 0.3415 seconds\n"
     ]
    }
   ],
   "source": [
    "# svm (Support Vector Machines)\n",
    "\n",
    "svc = svm.SVC(decision_function_shape='ovr')\n",
    "tic1 = time.perf_counter()\n",
    "svc.fit(X, y)\n",
    "toc1 = time.perf_counter()\n",
    "tic2 = time.perf_counter()\n",
    "# svc.score(X_test, y_test)\n",
    "svm_predict = svc.predict(X_test)\n",
    "toc2 = time.perf_counter()\n",
    "print(\"Accuracy for test data:\", svc.score(X_test, y_test))\n",
    "print(f\"Training time in {toc1 - tic1:0.4f} seconds\")\n",
    "print(f\"Testing time in {toc2 - tic2:0.4f} seconds\")"
   ]
  },
  {
   "cell_type": "code",
   "execution_count": 15,
   "id": "80663d04",
   "metadata": {},
   "outputs": [],
   "source": [
    "# Those are the model with bad parameters:\n",
    "\n",
    "# svc = svm.SVC(decision_function_shape='ovo')\n",
    "# svc.fit(X, y)\n",
    "# print(\"Accuracy for test data:\", svc.score(X_test, y_test))\n",
    "\n",
    "# svc = svm.LinearSVC()\n",
    "# svc.fit(X, y)\n",
    "# print(\"Accuracy for test data:\", svc.score(X_test, y_test))\n",
    "\n",
    "# svc = svm.NuSVC()\n",
    "# svc.fit(X, y)\n",
    "# print(\"Accuracy for test data:\", svc.score(X_test, y_test))\n",
    "\n",
    "# linear_svc = svm.SVC(kernel='linear')\n",
    "# linear_svc.fit(X, y)\n",
    "# print(\"Accuracy for test data:\", linear_svc.score(X_test, y_test))\n",
    "\n",
    "# poly_svc = svm.SVC(kernel='poly')\n",
    "# poly_svc.fit(X, y)\n",
    "# print(\"Accuracy for test data:\", poly_svc.score(X_test, y_test))\n",
    "\n",
    "# clf = make_pipeline(StandardScaler(), svm.SVC())\n",
    "# clf.fit(X, y)\n",
    "# print(\"Accuracy for test data:\", clf.score(X_test, y_test))\n",
    "\n",
    "# def my_kernel(X, Y):\n",
    "#     return np.dot(X, Y.T)\n",
    "# clf = svm.SVC(kernel=my_kernel)\n",
    "# clf.fit(X, y)\n",
    "# print(\"Accuracy for test data:\", clf.score(X_test, y_test))"
   ]
  },
  {
   "cell_type": "code",
   "execution_count": 16,
   "id": "e77428b2",
   "metadata": {},
   "outputs": [
    {
     "name": "stdout",
     "output_type": "stream",
     "text": [
      "PCA Accuracy for test data: 0.9376739009460211\n",
      "Training time in 0.1412 seconds\n",
      "Testing time in 0.2358 seconds\n"
     ]
    }
   ],
   "source": [
    "svc = svm.SVC()\n",
    "tic1 = time.perf_counter()\n",
    "svc.fit(pca_X, pca_y)\n",
    "toc1 = time.perf_counter()\n",
    "tic2 = time.perf_counter()\n",
    "# svc.score(pca_X_test, pca_y_test)\n",
    "svc_pca_predict = svc.predict(pca_X_test)\n",
    "toc2 = time.perf_counter()\n",
    "print(\"PCA Accuracy for test data:\", svc.score(pca_X_test, pca_y_test))\n",
    "print(f\"Training time in {toc1 - tic1:0.4f} seconds\")\n",
    "print(f\"Testing time in {toc2 - tic2:0.4f} seconds\")"
   ]
  },
  {
   "cell_type": "code",
   "execution_count": 17,
   "id": "e15f0fe1",
   "metadata": {},
   "outputs": [
    {
     "name": "stdout",
     "output_type": "stream",
     "text": [
      "SFS Accuracy for test data: 0.8452977184195882\n",
      "Training time in 0.1763 seconds\n",
      "Testing time in 0.3191 seconds\n"
     ]
    }
   ],
   "source": [
    "svc = svm.SVC()\n",
    "tic1 = time.perf_counter()\n",
    "svc.fit(sfs_X, sfs_y)\n",
    "toc1 = time.perf_counter()\n",
    "tic2 = time.perf_counter()\n",
    "# svc.score(sfs_X_test, sfs_y_test)\n",
    "svc_sfs_predict = svc.predict(sfs_X_test)\n",
    "toc2 = time.perf_counter()\n",
    "print(\"SFS Accuracy for test data:\", svc.score(sfs_X_test, sfs_y_test))\n",
    "print(f\"Training time in {toc1 - tic1:0.4f} seconds\")\n",
    "print(f\"Testing time in {toc2 - tic2:0.4f} seconds\")"
   ]
  },
  {
   "cell_type": "markdown",
   "id": "9746bf3a",
   "metadata": {},
   "source": [
    "# Confusion matrix"
   ]
  },
  {
   "cell_type": "code",
   "execution_count": 18,
   "id": "af9e9a7e",
   "metadata": {},
   "outputs": [],
   "source": [
    "# Each row represents each attributes(0 to 9).\n",
    "# Class in Testing data:\n",
    "# 0:  178\n",
    "# 1:  182\n",
    "# 2:  177\n",
    "# 3:  183\n",
    "# 4:  181\n",
    "# 5:  182\n",
    "# 6:  181\n",
    "# 7:  179\n",
    "# 8:  174\n",
    "# 9:  180"
   ]
  },
  {
   "cell_type": "code",
   "execution_count": 19,
   "id": "cb6156d4",
   "metadata": {},
   "outputs": [
    {
     "data": {
      "text/plain": [
       "array([[177,   0,   0,   0,   1,   0,   0,   0,   0,   0],\n",
       "       [  0, 174,   4,   0,   0,   0,   3,   0,   1,   0],\n",
       "       [  0,   4, 166,   0,   1,   0,   0,   4,   2,   0],\n",
       "       [  0,   0,   1, 159,   1,   1,   0,   2,   8,  11],\n",
       "       [  0,   1,   0,   0, 176,   0,   0,   0,   3,   1],\n",
       "       [  0,   0,   0,   0,   1, 176,   1,   0,   0,   4],\n",
       "       [  3,   2,   0,   0,   0,   0, 176,   0,   0,   0],\n",
       "       [  0,   0,   0,   0,   5,   0,   0, 170,   2,   2],\n",
       "       [  0,  13,   1,   8,   0,   4,   0,   1, 144,   3],\n",
       "       [  0,   0,   0,  15,   0,  11,   0,   1,   4, 149]])"
      ]
     },
     "execution_count": 19,
     "metadata": {},
     "output_type": "execute_result"
    }
   ],
   "source": [
    "# KNN confusion matrix for PCA data and SFS data:\n",
    "knn_pca_cm = metrics.confusion_matrix(pca_y_test, knn_pca_predict)\n",
    "knn_pca_cm"
   ]
  },
  {
   "cell_type": "code",
   "execution_count": 20,
   "id": "2ac97c84",
   "metadata": {},
   "outputs": [
    {
     "data": {
      "text/plain": [
       "array([[177,   0,   0,   0,   1,   0,   0,   0,   0,   0],\n",
       "       [  0, 150,   5,   9,   3,   6,   1,   2,   2,   4],\n",
       "       [  0,   3, 155,  10,   0,   5,   0,   3,   1,   0],\n",
       "       [  1,  18,  23, 134,   0,   0,   0,   3,   1,   3],\n",
       "       [  0,  15,   1,   1, 150,   1,   4,   5,   2,   2],\n",
       "       [  1,   2,   3,   0,  10, 143,  18,   0,   3,   2],\n",
       "       [  0,   2,   2,   1,   3,   3, 170,   0,   0,   0],\n",
       "       [  0,   0,  10,   0,  16,   0,   0, 149,   1,   3],\n",
       "       [  2,  14,   4,  12,   7,   0,   0,   1, 126,   8],\n",
       "       [  2,   2,   3,   1,   4,   2,   0,   2,  24, 140]])"
      ]
     },
     "execution_count": 20,
     "metadata": {},
     "output_type": "execute_result"
    }
   ],
   "source": [
    "knn_sfs_cm = metrics.confusion_matrix(sfs_y_test, knn_sfs_predict)\n",
    "knn_sfs_cm"
   ]
  },
  {
   "cell_type": "code",
   "execution_count": 21,
   "id": "58785c61",
   "metadata": {},
   "outputs": [
    {
     "data": {
      "text/plain": [
       "array([[177,   0,   0,   0,   1,   0,   0,   0,   0,   0],\n",
       "       [  0, 178,   0,   0,   0,   0,   1,   0,   3,   0],\n",
       "       [  0,   5, 168,   0,   1,   0,   0,   2,   1,   0],\n",
       "       [  0,   0,   1, 159,   0,   2,   0,   3,   4,  14],\n",
       "       [  0,   1,   0,   0, 177,   0,   0,   0,   3,   0],\n",
       "       [  0,   0,   0,   1,   1, 177,   0,   0,   1,   2],\n",
       "       [  3,   1,   0,   0,   0,   0, 176,   0,   1,   0],\n",
       "       [  0,   1,   0,   0,   5,   1,   0, 169,   2,   1],\n",
       "       [  0,  12,   0,   9,   0,   1,   0,   0, 143,   9],\n",
       "       [  0,   1,   0,  12,   0,   3,   0,   1,   2, 161]])"
      ]
     },
     "execution_count": 21,
     "metadata": {},
     "output_type": "execute_result"
    }
   ],
   "source": [
    "# SVM confusion matrix for PCA data and SFS data:\n",
    "svm_pca_cm = metrics.confusion_matrix(pca_y_test, svc_pca_predict)\n",
    "svm_pca_cm"
   ]
  },
  {
   "cell_type": "code",
   "execution_count": 22,
   "id": "311dcad8",
   "metadata": {},
   "outputs": [
    {
     "data": {
      "text/plain": [
       "array([[176,   0,   0,   0,   1,   1,   0,   0,   0,   0],\n",
       "       [  0, 145,   3,  10,   2,  10,   2,   0,   3,   7],\n",
       "       [  0,   4, 154,   8,   0,   6,   0,   4,   1,   0],\n",
       "       [  0,  10,  14, 147,   0,   1,   0,   5,   2,   4],\n",
       "       [  0,  15,   0,   0, 153,   2,   4,   3,   2,   2],\n",
       "       [  0,   2,   0,   0,   9, 142,  23,   0,   4,   2],\n",
       "       [  0,   1,   1,   1,   4,   2, 171,   0,   1,   0],\n",
       "       [  0,   0,   4,   0,  13,   0,   1, 158,   1,   2],\n",
       "       [  1,  12,   3,  11,   5,   0,   0,   2, 132,   8],\n",
       "       [  1,   1,   3,   3,   5,   1,   0,   1,  24, 141]])"
      ]
     },
     "execution_count": 22,
     "metadata": {},
     "output_type": "execute_result"
    }
   ],
   "source": [
    "svm_sfs_cm = metrics.confusion_matrix(sfs_y_test, svc_sfs_predict)\n",
    "svm_sfs_cm"
   ]
  },
  {
   "cell_type": "code",
   "execution_count": null,
   "id": "719ddf55",
   "metadata": {},
   "outputs": [],
   "source": []
  }
 ],
 "metadata": {
  "kernelspec": {
   "display_name": "Python 3 (ipykernel)",
   "language": "python",
   "name": "python3"
  },
  "language_info": {
   "codemirror_mode": {
    "name": "ipython",
    "version": 3
   },
   "file_extension": ".py",
   "mimetype": "text/x-python",
   "name": "python",
   "nbconvert_exporter": "python",
   "pygments_lexer": "ipython3",
   "version": "3.8.12"
  }
 },
 "nbformat": 4,
 "nbformat_minor": 5
}
